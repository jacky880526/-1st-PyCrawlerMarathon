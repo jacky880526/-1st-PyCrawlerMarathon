{
 "cells": [
  {
   "cell_type": "code",
   "execution_count": 1,
   "metadata": {},
   "outputs": [],
   "source": [
    "from urllib.request import urlretrieve\n",
    "import os"
   ]
  },
  {
   "cell_type": "code",
   "execution_count": 2,
   "metadata": {},
   "outputs": [],
   "source": [
    "try:\n",
    "    os.makedirs(\"./Data\", exist_ok=True)\n",
    "    urlretrieve(\"https://www.w3.org/TR/PNG/iso_8859-1.txt\", \"Homework.txt\")\n",
    "except:\n",
    "    print(\"發生錯誤\")"
   ]
  },
  {
   "cell_type": "code",
   "execution_count": 11,
   "metadata": {},
   "outputs": [
    {
     "name": "stdout",
     "output_type": "stream",
     "text": [
      "[X] 檢查 Data 資料夾是否有 Homework.txt 檔名之檔案\n",
      "[X] 檢查 Data 資料夾是否有 Homework.txt 檔名之檔案\n",
      "[X] 檢查 Data 資料夾是否有 Homework.txt 檔名之檔案\n",
      "[X] 檢查 Data 資料夾是否有 Homework.txt 檔名之檔案\n",
      "[X] 檢查 Data 資料夾是否有 Homework.txt 檔名之檔案\n",
      "[X] 檢查 Data 資料夾是否有 Homework.txt 檔名之檔案\n",
      "[X] 檢查 Data 資料夾是否有 Homework.txt 檔名之檔案\n",
      "[X] 檢查 Data 資料夾是否有 Homework.txt 檔名之檔案\n",
      "[X] 檢查 Data 資料夾是否有 Homework.txt 檔名之檔案\n",
      "[X] 檢查 Data 資料夾是否有 Homework.txt 檔名之檔案\n",
      "[X] 檢查 Data 資料夾是否有 Homework.txt 檔名之檔案\n",
      "[X] 檢查 Data 資料夾是否有 Homework.txt 檔名之檔案\n",
      "[X] 檢查 Data 資料夾是否有 Homework.txt 檔名之檔案\n",
      "[X] 檢查 Data 資料夾是否有 Homework.txt 檔名之檔案\n",
      "[X] 檢查 Data 資料夾是否有 Homework.txt 檔名之檔案\n",
      "[X] 檢查 Data 資料夾是否有 Homework.txt 檔名之檔案\n",
      "[X] 檢查 Data 資料夾是否有 Homework.txt 檔名之檔案\n",
      "[X] 檢查 Data 資料夾是否有 Homework.txt 檔名之檔案\n",
      "[X] 檢查 Data 資料夾是否有 Homework.txt 檔名之檔案\n",
      "[X] 檢查 Data 資料夾是否有 Homework.txt 檔名之檔案\n",
      "[X] 檢查 Data 資料夾是否有 Homework.txt 檔名之檔案\n",
      "[X] 檢查 Data 資料夾是否有 Homework.txt 檔名之檔案\n",
      "[X] 檢查 Data 資料夾是否有 Homework.txt 檔名之檔案\n",
      "[X] 檢查 Data 資料夾是否有 Homework.txt 檔名之檔案\n",
      "[X] 檢查 Data 資料夾是否有 Homework.txt 檔名之檔案\n",
      "[X] 檢查 Data 資料夾是否有 Homework.txt 檔名之檔案\n",
      "[X] 檢查 Data 資料夾是否有 Homework.txt 檔名之檔案\n",
      "[X] 檢查 Data 資料夾是否有 Homework.txt 檔名之檔案\n",
      "[X] 檢查 Data 資料夾是否有 Homework.txt 檔名之檔案\n",
      "[X] 檢查 Data 資料夾是否有 Homework.txt 檔名之檔案\n",
      "[X] 檢查 Data 資料夾是否有 Homework.txt 檔名之檔案\n",
      "[X] 檢查 Data 資料夾是否有 Homework.txt 檔名之檔案\n",
      "[X] 檢查 Data 資料夾是否有 Homework.txt 檔名之檔案\n",
      "[X] 檢查 Data 資料夾是否有 Homework.txt 檔名之檔案\n",
      "[X] 檢查 Data 資料夾是否有 Homework.txt 檔名之檔案\n",
      "[X] 檢查 Data 資料夾是否有 Homework.txt 檔名之檔案\n",
      "[X] 檢查 Data 資料夾是否有 Homework.txt 檔名之檔案\n",
      "[X] 檢查 Data 資料夾是否有 Homework.txt 檔名之檔案\n",
      "[X] 檢查 Data 資料夾是否有 Homework.txt 檔名之檔案\n",
      "[X] 檢查 Data 資料夾是否有 Homework.txt 檔名之檔案\n",
      "[X] 檢查 Data 資料夾是否有 Homework.txt 檔名之檔案\n",
      "[X] 檢查 Data 資料夾是否有 Homework.txt 檔名之檔案\n",
      "[X] 檢查 Data 資料夾是否有 Homework.txt 檔名之檔案\n",
      "[X] 檢查 Data 資料夾是否有 Homework.txt 檔名之檔案\n",
      "[X] 檢查 Data 資料夾是否有 Homework.txt 檔名之檔案\n",
      "[X] 檢查 Data 資料夾是否有 Homework.txt 檔名之檔案\n",
      "[X] 檢查 Data 資料夾是否有 Homework.txt 檔名之檔案\n",
      "[X] 檢查 Data 資料夾是否有 Homework.txt 檔名之檔案\n",
      "[X] 檢查 Data 資料夾是否有 Homework.txt 檔名之檔案\n",
      "[X] 檢查 Data 資料夾是否有 Homework.txt 檔名之檔案\n",
      "[X] 檢查 Data 資料夾是否有 Homework.txt 檔名之檔案\n",
      "[X] 檢查 Data 資料夾是否有 Homework.txt 檔名之檔案\n",
      "[X] 檢查 Data 資料夾是否有 Homework.txt 檔名之檔案\n",
      "[X] 檢查 Data 資料夾是否有 Homework.txt 檔名之檔案\n",
      "[X] 檢查 Data 資料夾是否有 Homework.txt 檔名之檔案\n",
      "[X] 檢查 Data 資料夾是否有 Homework.txt 檔名之檔案\n",
      "[X] 檢查 Data 資料夾是否有 Homework.txt 檔名之檔案\n",
      "[X] 檢查 Data 資料夾是否有 Homework.txt 檔名之檔案\n",
      "[X] 檢查 Data 資料夾是否有 Homework.txt 檔名之檔案\n",
      "[X] 檢查 Data 資料夾是否有 Homework.txt 檔名之檔案\n",
      "[X] 檢查 Data 資料夾是否有 Homework.txt 檔名之檔案\n",
      "[X] 檢查 Data 資料夾是否有 Homework.txt 檔名之檔案\n",
      "[X] 檢查 Data 資料夾是否有 Homework.txt 檔名之檔案\n",
      "[X] 檢查 Data 資料夾是否有 Homework.txt 檔名之檔案\n",
      "[X] 檢查 Data 資料夾是否有 Homework.txt 檔名之檔案\n",
      "[X] 檢查 Data 資料夾是否有 Homework.txt 檔名之檔案\n",
      "[X] 檢查 Data 資料夾是否有 Homework.txt 檔名之檔案\n",
      "[X] 檢查 Data 資料夾是否有 Homework.txt 檔名之檔案\n",
      "[X] 檢查 Data 資料夾是否有 Homework.txt 檔名之檔案\n",
      "[X] 檢查 Data 資料夾是否有 Homework.txt 檔名之檔案\n",
      "[]\n"
     ]
    }
   ],
   "source": [
    "files=[]\n",
    "dirs = os.listdir( './' )\n",
    "for file in dirs:\n",
    "    if 'Homework.txt' in files:\n",
    "        print('[O] 檢查 Data 資料夾是否有 Homework.txt 檔名之檔案')\n",
    "    else:\n",
    "        print('[X] 檢查 Data 資料夾是否有 Homework.txt 檔名之檔案')\n",
    "print(files)"
   ]
  },
  {
   "cell_type": "code",
   "execution_count": 10,
   "metadata": {},
   "outputs": [
    {
     "name": "stdout",
     "output_type": "stream",
     "text": [
      "Hello World\n"
     ]
    }
   ],
   "source": [
    "f = ''\n",
    "with open(\"./Data/Homework.txt\", \"w\") as fh:\n",
    "    f=fh.write(\"Hello World\")\n",
    "try:\n",
    "    with open(\"./Data/Homework.txt\", \"r\") as fh:\n",
    "        f=fh.read()        \n",
    "except EnvironmentError:\n",
    "    pass    \n",
    "print(f)"
   ]
  },
  {
   "cell_type": "code",
   "execution_count": 13,
   "metadata": {},
   "outputs": [
    {
     "name": "stdout",
     "output_type": "stream",
     "text": [
      "[O] 檢查 Homework.txt 檔案字數是否符合 Hello World 字數\n"
     ]
    }
   ],
   "source": [
    "if len('Hello World') == len(f):\n",
    "    print('[O] 檢查 Homework.txt 檔案字數是否符合 Hello World 字數')\n",
    "else:\n",
    "    print('[X] 檢查 Homework.txt 檔案字數是否符合 Hello World 字數')"
   ]
  },
  {
   "cell_type": "code",
   "execution_count": 14,
   "metadata": {},
   "outputs": [],
   "source": [
    "import chardet"
   ]
  },
  {
   "cell_type": "code",
   "execution_count": 16,
   "metadata": {},
   "outputs": [
    {
     "name": "stdout",
     "output_type": "stream",
     "text": [
      "{'encoding': 'ascii', 'confidence': 1.0, 'language': ''}\n"
     ]
    }
   ],
   "source": [
    "with open('Homework.txt','rb') as f:\n",
    "    data= f.read()\n",
    "print(chardet.detect(data))"
   ]
  }
 ],
 "metadata": {
  "kernelspec": {
   "display_name": "Python 3",
   "language": "python",
   "name": "python3"
  },
  "language_info": {
   "codemirror_mode": {
    "name": "ipython",
    "version": 3
   },
   "file_extension": ".py",
   "mimetype": "text/x-python",
   "name": "python",
   "nbconvert_exporter": "python",
   "pygments_lexer": "ipython3",
   "version": "3.7.3"
  }
 },
 "nbformat": 4,
 "nbformat_minor": 2
}
