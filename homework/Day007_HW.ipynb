{
 "cells": [
  {
   "cell_type": "code",
   "execution_count": null,
   "metadata": {},
   "outputs": [],
   "source": [
    "## 請問目前提到的這種基於 HTTP 一來一回的網頁傳輸方式，有哪些缺點及問題？\n",
    "我認為這種一來一往模式，有一個問題是只要其中一方出問題，就可能沒有辦法順利輸出網頁。或者是在靜態網頁的運作過程當中，有一個步驟出了差錯，\n",
    "便會讓網頁無法運行。\n",
    "## 第 16 頁所使用的 JavaScipt 程式語言，跟我們一般使用的 Python 在執行上有什麼不同。\n",
    "JavaScript是將命令發送給瀏覽器，並透過直接網頁做修改。\n",
    "python比較多運用在資料庫或是一些開發的應用。"
   ]
  }
 ],
 "metadata": {
  "kernelspec": {
   "display_name": "Python 3",
   "language": "python",
   "name": "python3"
  },
  "language_info": {
   "codemirror_mode": {
    "name": "ipython",
    "version": 3
   },
   "file_extension": ".py",
   "mimetype": "text/x-python",
   "name": "python",
   "nbconvert_exporter": "python",
   "pygments_lexer": "ipython3",
   "version": "3.7.3"
  }
 },
 "nbformat": 4,
 "nbformat_minor": 2
}
