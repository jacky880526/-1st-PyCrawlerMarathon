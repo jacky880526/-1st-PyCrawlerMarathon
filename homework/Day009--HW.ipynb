{
 "cells": [
  {
   "cell_type": "code",
   "execution_count": 1,
   "metadata": {},
   "outputs": [],
   "source": [
    "import requests\n",
    "import os\n",
    "from bs4 import BeautifulSoup\n",
    "from PIL import Image"
   ]
  },
  {
   "cell_type": "code",
   "execution_count": 9,
   "metadata": {},
   "outputs": [],
   "source": [
    "url='https://www.ptt.cc/bbs/Beauty/M.1574854555.A.E5C.html'\n",
    "headers={ 'User-Agent': 'Mozilla/5.0 (Macintosh; Intel Mac OS X 10_12_6) AppleWebKit/537.36 (KHTML, like Gecko) Chrome/79.0.3945.130 Safari/537.36'}\n",
    "resp= requests.get(url, cookies={'over18':'1'}, headers=headers)\n",
    "soup=BeautifulSoup(resp.text)"
   ]
  },
  {
   "cell_type": "code",
   "execution_count": 10,
   "metadata": {},
   "outputs": [],
   "source": [
    "output_dir='downlaods'\n",
    "if not os.path.exists(output_dir):\n",
    "    os.makedirs(output_dir)"
   ]
  },
  {
   "cell_type": "code",
   "execution_count": 14,
   "metadata": {},
   "outputs": [
    {
     "name": "stdout",
     "output_type": "stream",
     "text": [
      "Save imagedownlaods/Yvqa9MC.jpg.jpeg\n",
      "Save imagedownlaods/4aqPUFf.jpg.jpeg\n",
      "Save imagedownlaods/hG9seBk.jpg.jpeg\n",
      "Save imagedownlaods/2M5b3z4.jpg.jpeg\n",
      "Save imagedownlaods/ncyh1pY.jpg.jpeg\n",
      "Save imagedownlaods/Z8L1vqU.jpg.jpeg\n",
      "Save imagedownlaods/tJyl8gf.jpg.jpeg\n",
      "Save imagedownlaods/hwry1vC.jpg.jpeg\n",
      "Save imagedownlaods/WaPmVsl.jpg.jpeg\n",
      "Save imagedownlaods/u3a9fBO.jpg.jpeg\n"
     ]
    }
   ],
   "source": [
    "image_tags=soup.find(id='main-content').findChildren('a', recursive=False)\n",
    "for image_tag in image_tags:\n",
    "    if 'imgur' not in image_tag['href']:\n",
    "        continue\n",
    "    image_id=image_tag['href'].split('/')[-1]\n",
    "    image_url='http://i.imgur.com/{}.jpg'.format(image_id)\n",
    "    with requests.get(image_url, stream=True) as r:\n",
    "        r.raise_for_status()\n",
    "        \n",
    "        img=Image.open(r.raw)\n",
    "        img_savename='{outdir}/{image_id}.{image_ext}'. format(\n",
    "            outdir=output_dir, image_id=image_id, image_ext=img.format.lower())\n",
    "        img.save(img_savename)\n",
    "        print('Save image{}'.format(img_savename))"
   ]
  },
  {
   "cell_type": "code",
   "execution_count": null,
   "metadata": {},
   "outputs": [],
   "source": []
  },
  {
   "cell_type": "code",
   "execution_count": null,
   "metadata": {},
   "outputs": [],
   "source": []
  },
  {
   "cell_type": "code",
   "execution_count": null,
   "metadata": {},
   "outputs": [],
   "source": []
  },
  {
   "cell_type": "code",
   "execution_count": null,
   "metadata": {},
   "outputs": [],
   "source": []
  },
  {
   "cell_type": "code",
   "execution_count": null,
   "metadata": {},
   "outputs": [],
   "source": []
  },
  {
   "cell_type": "code",
   "execution_count": null,
   "metadata": {},
   "outputs": [],
   "source": []
  }
 ],
 "metadata": {
  "kernelspec": {
   "display_name": "Python 3",
   "language": "python",
   "name": "python3"
  },
  "language_info": {
   "codemirror_mode": {
    "name": "ipython",
    "version": 3
   },
   "file_extension": ".py",
   "mimetype": "text/x-python",
   "name": "python",
   "nbconvert_exporter": "python",
   "pygments_lexer": "ipython3",
   "version": "3.7.3"
  }
 },
 "nbformat": 4,
 "nbformat_minor": 2
}
